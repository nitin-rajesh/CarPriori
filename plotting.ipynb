{
 "cells": [
  {
   "cell_type": "code",
   "execution_count": 1,
   "metadata": {},
   "outputs": [],
   "source": [
    "import matplotlib.pyplot as plt\n",
    "import numpy as np"
   ]
  },
  {
   "cell_type": "code",
   "execution_count": 2,
   "metadata": {},
   "outputs": [],
   "source": [
    "from webrep import repo"
   ]
  },
  {
   "cell_type": "markdown",
   "metadata": {},
   "source": [
    "### Fetch functions"
   ]
  },
  {
   "cell_type": "code",
   "execution_count": 61,
   "metadata": {},
   "outputs": [],
   "source": [
    "def getAvgSales(data):\n",
    "    avgsales = 0\n",
    "    for salesval in data['Sales']:\n",
    "        avgsales += int(salesval)\n",
    "\n",
    "    avgsales /= len(data['Sales'])\n",
    "    return int(avgsales)\n",
    "\n",
    "def getAvgPrice(data):\n",
    "    avgprice = 0\n",
    "    for salesval in data['Prices']:\n",
    "        avgprice += int(salesval)\n",
    "\n",
    "    avgprice /= len(data['Prices'])\n",
    "    return int(avgprice)\n",
    "\n",
    "def getEngineSize(data):\n",
    "    engine = 0\n",
    "    try:\n",
    "        engine = data['Engine']['Engine Displacement'].split(' ')[0]\n",
    "    except:\n",
    "        engine = 1000\n",
    "\n",
    "    return int(engine)\n",
    "\n",
    "def getPower(data):\n",
    "    power = 0\n",
    "    try:\n",
    "        power = data['Engine']['Max Power'].split('PS')[0]\n",
    "    except:\n",
    "        power = 1\n",
    "        \n",
    "    return int(power)\n",
    "\n",
    "def getNetRevenue(data):\n",
    "    return float(getAvgSales(data) * getAvgPrice(data))\n",
    "\n",
    "def getLength(data):\n",
    "    length = 0\n",
    "    try:\n",
    "        length = data['Dimensions']['Length']\n",
    "    except:\n",
    "        power = 1\n",
    "\n",
    "    return int(length)\n",
    "\n",
    "def getForm(data):\n",
    "    ratio = 1\n",
    "    try:\n",
    "        length = int(data['Dimensions']['Length'])\n",
    "        height = int(data['Dimensions']['Height'])\n",
    "        ratio = length/4000 * length/height\n",
    "    except:\n",
    "        ratio = 1\n",
    "\n",
    "    return int(data['Dimensions']['Height'])"
   ]
  },
  {
   "cell_type": "markdown",
   "metadata": {},
   "source": [
    "### Price to sales plot"
   ]
  },
  {
   "cell_type": "code",
   "execution_count": 44,
   "metadata": {},
   "outputs": [
    {
     "name": "stdout",
     "output_type": "stream",
     "text": [
      "Skipped\n"
     ]
    },
    {
     "data": {
      "image/png": "[encoded data removed]",
      "text/plain": [
       "<Figure size 432x288 with 1 Axes>"
      ]
     },
     "metadata": {
      "needs_background": "light"
     },
     "output_type": "display_data"
    }
   ],
   "source": [
    "rp = repo('CarPriori-dataset')\n",
    "\n",
    "xvals = []\n",
    "yvals = []\n",
    "\n",
    "for fname in rp.traverseRep():\n",
    "    try:\n",
    "        data = rp.getData(fname=fname)\n",
    "        \n",
    "        yvals.append(getNetRevenue(data))\n",
    "        xvals.append(getAvgPrice(data))\n",
    "\n",
    "    except:\n",
    "        pass\n",
    "\n",
    "xpoints = np.array(xvals)\n",
    "ypoints = np.array(yvals)\n",
    "\n",
    "plt.plot(xpoints,ypoints,'o')\n",
    "plt.show()"
   ]
  },
  {
   "cell_type": "markdown",
   "metadata": {},
   "source": [
    "### Power to sales plot"
   ]
  },
  {
   "cell_type": "code",
   "execution_count": 45,
   "metadata": {},
   "outputs": [
    {
     "name": "stdout",
     "output_type": "stream",
     "text": [
      "Skipped\n"
     ]
    },
    {
     "data": {
      "image/png": "[encoded data removed]",
      "text/plain": [
       "<Figure size 432x288 with 1 Axes>"
      ]
     },
     "metadata": {
      "needs_background": "light"
     },
     "output_type": "display_data"
    }
   ],
   "source": [
    "rp = repo('CarPriori-dataset')\n",
    "\n",
    "xvals = []\n",
    "yvals = []\n",
    "\n",
    "for fname in rp.traverseRep():\n",
    "    try:\n",
    "        data = rp.getData(fname=fname)\n",
    "\n",
    "        yvals.append(getNetRevenue(data))\n",
    "        xvals.append(getPower(data))\n",
    "    except:\n",
    "        pass\n",
    "\n",
    "\n",
    "xpoints = np.array(xvals)\n",
    "ypoints = np.array(yvals)\n",
    "\n",
    "plt.plot(xpoints,ypoints,'o')\n",
    "plt.show()"
   ]
  },
  {
   "cell_type": "markdown",
   "metadata": {},
   "source": [
    "### Price to engines"
   ]
  },
  {
   "cell_type": "code",
   "execution_count": 47,
   "metadata": {},
   "outputs": [
    {
     "name": "stdout",
     "output_type": "stream",
     "text": [
      "Skipped\n"
     ]
    },
    {
     "data": {
      "image/png": "[encoded data removed]",
      "text/plain": [
       "<Figure size 432x288 with 1 Axes>"
      ]
     },
     "metadata": {
      "needs_background": "light"
     },
     "output_type": "display_data"
    }
   ],
   "source": [
    "rp = repo('CarPriori-dataset')\n",
    "\n",
    "xvals = []\n",
    "yvals = []\n",
    "\n",
    "for fname in rp.traverseRep():\n",
    "    try:\n",
    "        data = rp.getData(fname=fname)\n",
    "\n",
    "        yvals.append(getNetRevenue(data))\n",
    "        xvals.append(getLength(data))\n",
    "    except:\n",
    "        pass\n",
    "\n",
    "\n",
    "xpoints = np.array(xvals)\n",
    "ypoints = np.array(yvals)\n",
    "\n",
    "plt.plot(xpoints,ypoints,'o')\n",
    "plt.show()"
   ]
  },
  {
   "cell_type": "code",
   "execution_count": 53,
   "metadata": {},
   "outputs": [
    {
     "name": "stdout",
     "output_type": "stream",
     "text": [
      "Skipped\n"
     ]
    },
    {
     "data": {
      "image/png": "[encoded data removed]",
      "text/plain": [
       "<Figure size 432x288 with 1 Axes>"
      ]
     },
     "metadata": {
      "needs_background": "light"
     },
     "output_type": "display_data"
    }
   ],
   "source": [
    "rp = repo('CarPriori-dataset')\n",
    "\n",
    "xvals = []\n",
    "yvals = []\n",
    "\n",
    "for fname in rp.traverseRep():\n",
    "    try:\n",
    "        data = rp.getData(fname=fname)\n",
    "\n",
    "        yvals.append(getNetRevenue(data))\n",
    "        xvals.append(getForm(data))\n",
    "    except:\n",
    "        pass\n",
    "\n",
    "\n",
    "xpoints = np.array(xvals)\n",
    "ypoints = np.array(yvals)\n",
    "\n",
    "plt.plot(xpoints,ypoints,'o')\n",
    "plt.show()"
   ]
  },
  {
   "cell_type": "markdown",
   "metadata": {},
   "source": [
    "### Generating csv"
   ]
  },
  {
   "cell_type": "code",
   "execution_count": 62,
   "metadata": {},
   "outputs": [
    {
     "name": "stdout",
     "output_type": "stream",
     "text": [
      "Skipped\n"
     ]
    }
   ],
   "source": [
    "rp = repo('CarPriori-dataset')\n",
    "\n",
    "with open('dataset.csv',mode='w') as f:\n",
    "    f.write('Car,Company,Engine,Power,Length,Width,Height,Wheelbase,Price,Sales\\n')\n",
    "    for fname in rp.traverseRep():\n",
    "        try:\n",
    "            data = rp.getData(fname=fname)\n",
    "            line = data['Car'] + ','\n",
    "            line += data['Company'] + ','\n",
    "            line += str(getEngineSize(data)) + ','\n",
    "            line += str(getPower(data)) + ','\n",
    "            line += data['Dimensions']['Length'] + ','\n",
    "            line += data['Dimensions']['Width'] + ','\n",
    "            line += data['Dimensions']['Height'] + ','\n",
    "            line += data['Dimensions']['Wheelbase'] + ','\n",
    "            line += str(getAvgPrice(data)) + ','\n",
    "            line += str(getAvgSales(data))\n",
    "            line += '\\n'\n",
    "            f.write(line)\n",
    "        except:\n",
    "            pass"
   ]
  }
 ],
 "metadata": {
  "kernelspec": {
   "display_name": "Python 3.9.14 64-bit",
   "language": "python",
   "name": "python3"
  },
  "language_info": {
   "codemirror_mode": {
    "name": "ipython",
    "version": 3
   },
   "file_extension": ".py",
   "mimetype": "text/x-python",
   "name": "python",
   "nbconvert_exporter": "python",
   "pygments_lexer": "ipython3",
   "version": "3.9.14"
  },
  "orig_nbformat": 4,
  "vscode": {
   "interpreter": {
    "hash": "397704579725e15f5c7cb49fe5f0341eb7531c82d19f2c29d197e8b64ab5776b"
   }
  }
 },
 "nbformat": 4,
 "nbformat_minor": 2
}
